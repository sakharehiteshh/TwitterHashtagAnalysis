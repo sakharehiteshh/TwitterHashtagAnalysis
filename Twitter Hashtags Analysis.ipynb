{
 "cells": [
  {
   "cell_type": "code",
   "execution_count": 1,
   "id": "4c4bb152",
   "metadata": {},
   "outputs": [],
   "source": [
    "import tweepy\n",
    "import csv\n",
    "import collections\n",
    "from collections import Counter\n",
    "import matplotlib.pyplot as plt\n",
    "import pandas as pd\n",
    "from wordcloud import WordCloud"
   ]
  },
  {
   "cell_type": "code",
   "execution_count": 2,
   "id": "08220412",
   "metadata": {},
   "outputs": [],
   "source": [
    "# Authentication keys and tokens\n",
    "consumer_key = 'HXZByXqXzjqYU7vOPFDnvl5vS'\n",
    "consumer_secret = '2QZRqdheRzoZGnaZu964SlRke3vjnu2ma584Gr1drSH4fhyDcs'\n",
    "access_token = '1622348584413790208-xJZBqa16jHcBPsrSNqNgiRNGiybKhq'\n",
    "access_token_secret = 'ZsV5SFhJXsFpyb8AcAAIAMD4rG3Ql7lXOUr0xD3rmxNc2'"
   ]
  },
  {
   "cell_type": "code",
   "execution_count": 3,
   "id": "9f470a26",
   "metadata": {},
   "outputs": [],
   "source": [
    "# Authenticating with Twitter API\n",
    "auth = tweepy.OAuthHandler(consumer_key, consumer_secret)\n",
    "auth.set_access_token(access_token, access_token_secret)\n",
    "api = tweepy.API(auth)"
   ]
  },
  {
   "cell_type": "code",
   "execution_count": 4,
   "id": "f657e26e",
   "metadata": {},
   "outputs": [
    {
     "ename": "Unauthorized",
     "evalue": "401 Unauthorized\n32 - Could not authenticate you.",
     "output_type": "error",
     "traceback": [
      "\u001b[1;31m---------------------------------------------------------------------------\u001b[0m",
      "\u001b[1;31mUnauthorized\u001b[0m                              Traceback (most recent call last)",
      "Input \u001b[1;32mIn [4]\u001b[0m, in \u001b[0;36m<cell line: 2>\u001b[1;34m()\u001b[0m\n\u001b[0;32m      1\u001b[0m \u001b[38;5;66;03m# Extracting tweets for one week\u001b[39;00m\n\u001b[1;32m----> 2\u001b[0m one_week_ago \u001b[38;5;241m=\u001b[39m \u001b[43mapi\u001b[49m\u001b[38;5;241;43m.\u001b[39;49m\u001b[43mhome_timeline\u001b[49m\u001b[43m(\u001b[49m\u001b[43mcount\u001b[49m\u001b[38;5;241;43m=\u001b[39;49m\u001b[38;5;241;43m200\u001b[39;49m\u001b[43m)\u001b[49m\n\u001b[0;32m      3\u001b[0m tweets \u001b[38;5;241m=\u001b[39m []\n\u001b[0;32m      4\u001b[0m \u001b[38;5;28;01mfor\u001b[39;00m tweet \u001b[38;5;129;01min\u001b[39;00m one_week_ago:\n",
      "File \u001b[1;32m~\\AppData\\Local\\Programs\\Python\\Python310\\lib\\site-packages\\tweepy\\api.py:33\u001b[0m, in \u001b[0;36mpagination.<locals>.decorator.<locals>.wrapper\u001b[1;34m(*args, **kwargs)\u001b[0m\n\u001b[0;32m     31\u001b[0m \u001b[38;5;129m@functools\u001b[39m\u001b[38;5;241m.\u001b[39mwraps(method)\n\u001b[0;32m     32\u001b[0m \u001b[38;5;28;01mdef\u001b[39;00m \u001b[38;5;21mwrapper\u001b[39m(\u001b[38;5;241m*\u001b[39margs, \u001b[38;5;241m*\u001b[39m\u001b[38;5;241m*\u001b[39mkwargs):\n\u001b[1;32m---> 33\u001b[0m     \u001b[38;5;28;01mreturn\u001b[39;00m method(\u001b[38;5;241m*\u001b[39margs, \u001b[38;5;241m*\u001b[39m\u001b[38;5;241m*\u001b[39mkwargs)\n",
      "File \u001b[1;32m~\\AppData\\Local\\Programs\\Python\\Python310\\lib\\site-packages\\tweepy\\api.py:46\u001b[0m, in \u001b[0;36mpayload.<locals>.decorator.<locals>.wrapper\u001b[1;34m(*args, **kwargs)\u001b[0m\n\u001b[0;32m     44\u001b[0m kwargs[\u001b[38;5;124m'\u001b[39m\u001b[38;5;124mpayload_list\u001b[39m\u001b[38;5;124m'\u001b[39m] \u001b[38;5;241m=\u001b[39m payload_list\n\u001b[0;32m     45\u001b[0m kwargs[\u001b[38;5;124m'\u001b[39m\u001b[38;5;124mpayload_type\u001b[39m\u001b[38;5;124m'\u001b[39m] \u001b[38;5;241m=\u001b[39m payload_type\n\u001b[1;32m---> 46\u001b[0m \u001b[38;5;28;01mreturn\u001b[39;00m method(\u001b[38;5;241m*\u001b[39margs, \u001b[38;5;241m*\u001b[39m\u001b[38;5;241m*\u001b[39mkwargs)\n",
      "File \u001b[1;32m~\\AppData\\Local\\Programs\\Python\\Python310\\lib\\site-packages\\tweepy\\api.py:494\u001b[0m, in \u001b[0;36mAPI.home_timeline\u001b[1;34m(self, **kwargs)\u001b[0m\n\u001b[0;32m    461\u001b[0m \u001b[38;5;129m@pagination\u001b[39m(mode\u001b[38;5;241m=\u001b[39m\u001b[38;5;124m'\u001b[39m\u001b[38;5;124mid\u001b[39m\u001b[38;5;124m'\u001b[39m)\n\u001b[0;32m    462\u001b[0m \u001b[38;5;129m@payload\u001b[39m(\u001b[38;5;124m'\u001b[39m\u001b[38;5;124mstatus\u001b[39m\u001b[38;5;124m'\u001b[39m, \u001b[38;5;28mlist\u001b[39m\u001b[38;5;241m=\u001b[39m\u001b[38;5;28;01mTrue\u001b[39;00m)\n\u001b[0;32m    463\u001b[0m \u001b[38;5;28;01mdef\u001b[39;00m \u001b[38;5;21mhome_timeline\u001b[39m(\u001b[38;5;28mself\u001b[39m, \u001b[38;5;241m*\u001b[39m\u001b[38;5;241m*\u001b[39mkwargs):\n\u001b[0;32m    464\u001b[0m     \u001b[38;5;124;03m\"\"\"home_timeline(*, count, since_id, max_id, trim_user, \\\u001b[39;00m\n\u001b[0;32m    465\u001b[0m \u001b[38;5;124;03m                     exclude_replies, include_entities)\u001b[39;00m\n\u001b[0;32m    466\u001b[0m \n\u001b[1;32m   (...)\u001b[0m\n\u001b[0;32m    492\u001b[0m \u001b[38;5;124;03m    https://developer.twitter.com/en/docs/twitter-api/v1/tweets/timelines/api-reference/get-statuses-home_timeline\u001b[39;00m\n\u001b[0;32m    493\u001b[0m \u001b[38;5;124;03m    \"\"\"\u001b[39;00m\n\u001b[1;32m--> 494\u001b[0m     \u001b[38;5;28;01mreturn\u001b[39;00m \u001b[38;5;28mself\u001b[39m\u001b[38;5;241m.\u001b[39mrequest(\n\u001b[0;32m    495\u001b[0m         \u001b[38;5;124m'\u001b[39m\u001b[38;5;124mGET\u001b[39m\u001b[38;5;124m'\u001b[39m, \u001b[38;5;124m'\u001b[39m\u001b[38;5;124mstatuses/home_timeline\u001b[39m\u001b[38;5;124m'\u001b[39m, endpoint_parameters\u001b[38;5;241m=\u001b[39m(\n\u001b[0;32m    496\u001b[0m             \u001b[38;5;124m'\u001b[39m\u001b[38;5;124mcount\u001b[39m\u001b[38;5;124m'\u001b[39m, \u001b[38;5;124m'\u001b[39m\u001b[38;5;124msince_id\u001b[39m\u001b[38;5;124m'\u001b[39m, \u001b[38;5;124m'\u001b[39m\u001b[38;5;124mmax_id\u001b[39m\u001b[38;5;124m'\u001b[39m, \u001b[38;5;124m'\u001b[39m\u001b[38;5;124mtrim_user\u001b[39m\u001b[38;5;124m'\u001b[39m, \u001b[38;5;124m'\u001b[39m\u001b[38;5;124mexclude_replies\u001b[39m\u001b[38;5;124m'\u001b[39m,\n\u001b[0;32m    497\u001b[0m             \u001b[38;5;124m'\u001b[39m\u001b[38;5;124minclude_entities\u001b[39m\u001b[38;5;124m'\u001b[39m\n\u001b[0;32m    498\u001b[0m         ), \u001b[38;5;241m*\u001b[39m\u001b[38;5;241m*\u001b[39mkwargs\n\u001b[0;32m    499\u001b[0m     )\n",
      "File \u001b[1;32m~\\AppData\\Local\\Programs\\Python\\Python310\\lib\\site-packages\\tweepy\\api.py:263\u001b[0m, in \u001b[0;36mAPI.request\u001b[1;34m(self, method, endpoint, endpoint_parameters, params, headers, json_payload, parser, payload_list, payload_type, post_data, files, require_auth, return_cursors, upload_api, use_cache, **kwargs)\u001b[0m\n\u001b[0;32m    261\u001b[0m     \u001b[38;5;28;01mraise\u001b[39;00m BadRequest(resp)\n\u001b[0;32m    262\u001b[0m \u001b[38;5;28;01mif\u001b[39;00m resp\u001b[38;5;241m.\u001b[39mstatus_code \u001b[38;5;241m==\u001b[39m \u001b[38;5;241m401\u001b[39m:\n\u001b[1;32m--> 263\u001b[0m     \u001b[38;5;28;01mraise\u001b[39;00m Unauthorized(resp)\n\u001b[0;32m    264\u001b[0m \u001b[38;5;28;01mif\u001b[39;00m resp\u001b[38;5;241m.\u001b[39mstatus_code \u001b[38;5;241m==\u001b[39m \u001b[38;5;241m403\u001b[39m:\n\u001b[0;32m    265\u001b[0m     \u001b[38;5;28;01mraise\u001b[39;00m Forbidden(resp)\n",
      "\u001b[1;31mUnauthorized\u001b[0m: 401 Unauthorized\n32 - Could not authenticate you."
     ]
    }
   ],
   "source": [
    "# Extracting tweets for one week\n",
    "one_week_ago = api.home_timeline(count=200)\n",
    "tweets = []\n",
    "for tweet in one_week_ago:\n",
    "    tweets.append(tweet.text)"
   ]
  },
  {
   "cell_type": "code",
   "execution_count": null,
   "id": "fef77e32",
   "metadata": {},
   "outputs": [],
   "source": [
    "# Storing tweets in a CSV file\n",
    "with open('tweets.csv', 'w', encoding='utf-8') as f:\n",
    "    writer = csv.writer(f)\n",
    "    writer.writerow(['tweets'])\n",
    "    writer.writerows([tweet] for tweet in tweets)"
   ]
  },
  {
   "cell_type": "code",
   "execution_count": null,
   "id": "84efc489",
   "metadata": {},
   "outputs": [],
   "source": [
    "# Extracting hashtags and counting frequency\n",
    "hashtags = {}\n",
    "for tweet in tweets:\n",
    "    for word in tweet.split():\n",
    "        if word.startswith('#'):\n",
    "            if word in hashtags:\n",
    "                hashtags[word] += 1\n",
    "            else:\n",
    "                hashtags[word] = 1"
   ]
  },
  {
   "cell_type": "code",
   "execution_count": null,
   "id": "e377b3a9",
   "metadata": {},
   "outputs": [],
   "source": [
    "# Sorting hashtags in descending order of frequency\n",
    "sorted_hashtags = sorted(hashtags.items(), key=lambda x: x[1], reverse=True)"
   ]
  },
  {
   "cell_type": "code",
   "execution_count": null,
   "id": "d7196e79",
   "metadata": {},
   "outputs": [],
   "source": [
    "# Storing the most common hashtags in a CSV file\n",
    "with open('hashtags.csv', 'w') as f:\n",
    "    writer = csv.writer(f)\n",
    "    writer.writerow(['hashtags', 'frequency'])\n",
    "    writer.writerows(sorted_hashtags) "
   ]
  },
  {
   "cell_type": "code",
   "execution_count": null,
   "id": "5be86e16",
   "metadata": {},
   "outputs": [],
   "source": [
    "# Read the Hashtags from the CSV file\n",
    "hashtags = []\n",
    "hashtag_only = []\n",
    "with open('hashtags.csv', 'r', encoding='latin-1') as f:\n",
    "    reader = csv.reader(f)\n",
    "    next(reader) \n",
    "    for row in reader:\n",
    "        if len(row) >= 2:\n",
    "            hashtag = row[0]\n",
    "            frequency = int(row[1])\n",
    "            hashtag_only += [hashtag]\n",
    "            hashtags.extend([hashtag] * frequency)"
   ]
  },
  {
   "cell_type": "code",
   "execution_count": null,
   "id": "c7f84ebc",
   "metadata": {},
   "outputs": [],
   "source": [
    "# Get the top 10 most frequent hashtags\n",
    "counter = collections.Counter(hashtags)\n",
    "top_hashtags = counter.most_common(20)"
   ]
  },
  {
   "cell_type": "code",
   "execution_count": null,
   "id": "819c37a5",
   "metadata": {},
   "outputs": [],
   "source": [
    "\n",
    "# Print the top hashtags\n",
    "print(\"Top 20 hashtags:\")\n",
    "for hashtag, count in top_hashtags:\n",
    "    print(hashtag, count)"
   ]
  },
  {
   "cell_type": "code",
   "execution_count": null,
   "id": "890da617",
   "metadata": {
    "scrolled": true
   },
   "outputs": [],
   "source": [
    "# Plot the top 20 hashtags in a word cloud and a histogram\n",
    "plt.bar([h for h, c in top_hashtags], [c for h, c in top_hashtags])\n",
    "plt.xticks(rotation=90)\n",
    "plt.show()"
   ]
  },
  {
   "cell_type": "code",
   "execution_count": null,
   "id": "89338999",
   "metadata": {},
   "outputs": [],
   "source": [
    "# Plot the top 20 hashtags in a word cloud \n",
    "wordcloud = WordCloud(width=800, height=800, background_color='white', max_words=20).generate_from_frequencies(dict(top_hashtags))\n",
    "plt.figure(figsize=(8, 8))\n",
    "plt.imshow(wordcloud, interpolation='bilinear')\n",
    "plt.axis('off')\n",
    "plt.show()"
   ]
  },
  {
   "cell_type": "code",
   "execution_count": null,
   "id": "269a4cf1",
   "metadata": {},
   "outputs": [],
   "source": [
    "# Finding the most frequent word\n",
    "most_frequent_word = counter.most_common(1)[0][0]"
   ]
  },
  {
   "cell_type": "code",
   "execution_count": null,
   "id": "ced8aff0",
   "metadata": {},
   "outputs": [],
   "source": [
    "most_frequent_word"
   ]
  },
  {
   "cell_type": "code",
   "execution_count": null,
   "id": "4904f7c3",
   "metadata": {},
   "outputs": [],
   "source": [
    "# Generating list of words occurring after most frequent word\n",
    "after_most_frequent = hashtag_only[1:21]\n",
    "\n",
    "# Get the top 10 most frequent hashtags\n",
    "counter = collections.Counter(hashtags)\n",
    "new_top_hashtags = counter.most_common(20)\n",
    "new_top_hashtags.pop(0)\n",
    "for hashtag, count in new_top_hashtags:\n",
    "    print(hashtag, count)"
   ]
  },
  {
   "cell_type": "code",
   "execution_count": null,
   "id": "31d18624",
   "metadata": {},
   "outputs": [],
   "source": [
    "plt.bar([h for h, c in new_top_hashtags], [c for h, c in new_top_hashtags])\n",
    "plt.xticks(rotation=90)\n",
    "plt.title(f'Top 20 Most Common Words After {most_frequent_word}')\n",
    "plt.show()"
   ]
  },
  {
   "cell_type": "code",
   "execution_count": null,
   "id": "085703bc",
   "metadata": {},
   "outputs": [],
   "source": [
    "# Plot the top 20 hashtags in a word cloud \n",
    "wordcloud = WordCloud(width=800, height=800, background_color='white', max_words=20).generate_from_frequencies(dict(new_top_hashtags))\n",
    "plt.figure(figsize=(8, 8))\n",
    "plt.imshow(wordcloud, interpolation='bilinear')\n",
    "plt.axis('off')\n",
    "plt.show()"
   ]
  },
  {
   "cell_type": "code",
   "execution_count": null,
   "id": "cb79c958",
   "metadata": {},
   "outputs": [],
   "source": [
    "# Generating list of words occurring before most frequent word\n",
    "before_most_frequent = []\n",
    "for i in range(1, len(hashtags)):\n",
    "    if hashtags[i] == most_frequent_word:\n",
    "        before_most_frequent.append(hashtags[i-1])"
   ]
  },
  {
   "cell_type": "code",
   "execution_count": null,
   "id": "e31840b4",
   "metadata": {
    "scrolled": true
   },
   "outputs": [],
   "source": [
    "# Plotting histogram of top 20 most common words before most frequent word\n",
    "counter_before = Counter(before_most_frequent)\n",
    "top_before = counter_before.most_common(20)\n",
    "plt.bar([h for h, c in top_before], [c for h, c in top_before])\n",
    "plt.xticks(rotation=90)\n",
    "plt.title(f'Top 20 Most Common Words Before {most_frequent_word}')\n",
    "plt.show()"
   ]
  },
  {
   "cell_type": "code",
   "execution_count": null,
   "id": "229bbdd7",
   "metadata": {},
   "outputs": [],
   "source": [
    "# Plot the top 20 hashtags in a word cloud \n",
    "wordcloud = WordCloud(width=800, height=800, background_color='white', max_words=20).generate_from_frequencies(dict(top_before))\n",
    "plt.figure(figsize=(8, 8))\n",
    "plt.imshow(wordcloud, interpolation='bilinear')\n",
    "plt.axis('off')\n",
    "plt.show()"
   ]
  },
  {
   "cell_type": "code",
   "execution_count": null,
   "id": "b700c5a2",
   "metadata": {},
   "outputs": [],
   "source": [
    "# read in the data\n",
    "df = pd.read_csv('hashtags.csv', encoding='ISO-8859-1')"
   ]
  },
  {
   "cell_type": "code",
   "execution_count": null,
   "id": "cd63e4e0",
   "metadata": {},
   "outputs": [],
   "source": [
    "# count the frequency of each word\n",
    "word_count = Counter(df['hashtags'])\n",
    "print(word_count)"
   ]
  },
  {
   "cell_type": "code",
   "execution_count": null,
   "id": "ad364c99",
   "metadata": {},
   "outputs": [],
   "source": [
    "print(df)"
   ]
  },
  {
   "cell_type": "code",
   "execution_count": null,
   "id": "287e5872",
   "metadata": {},
   "outputs": [],
   "source": [
    "# remove words that occur less than 3 times\n",
    "filtered_df = df[df['frequency'] >= 3]"
   ]
  },
  {
   "cell_type": "code",
   "execution_count": null,
   "id": "79914c5d",
   "metadata": {},
   "outputs": [],
   "source": [
    "percentage = (len(filtered_df) / len(df)) * 100\n",
    "print(f\"Percentage of data stored in the filtered dataframe: {percentage:.2f}%\")\n",
    "print(f\"Percentage of data removed: {100-percentage:.2f}%\")"
   ]
  },
  {
   "cell_type": "code",
   "execution_count": null,
   "id": "5be0e415",
   "metadata": {},
   "outputs": [],
   "source": [
    "print(filtered_df)"
   ]
  },
  {
   "cell_type": "code",
   "execution_count": null,
   "id": "7e293abb",
   "metadata": {},
   "outputs": [],
   "source": [
    "# plot histogram with x-axis as hashtags and y-axis as their frequency\n",
    "plt.bar(filtered_df['hashtags'], filtered_df['frequency'])\n",
    "plt.xticks(rotation=90) # rotate x-axis labels for better visibility\n",
    "plt.title('Hashtag Frequencies')\n",
    "plt.xlabel('Hashtags')\n",
    "plt.ylabel('Frequency')\n",
    "plt.show()"
   ]
  },
  {
   "cell_type": "code",
   "execution_count": null,
   "id": "81e0f4c4",
   "metadata": {},
   "outputs": [],
   "source": [
    "# create word cloud of hashtags\n",
    "text = ' '.join(filtered_df['hashtags'])\n",
    "wordcloud = WordCloud(width=800, height=400, max_words=50, background_color='white').generate(text)\n",
    "plt.figure(figsize=(10, 5))\n",
    "plt.imshow(wordcloud, interpolation='bilinear')\n",
    "plt.axis('off')\n",
    "plt.show()"
   ]
  },
  {
   "cell_type": "code",
   "execution_count": null,
   "id": "05f3aeb1",
   "metadata": {},
   "outputs": [],
   "source": []
  }
 ],
 "metadata": {
  "kernelspec": {
   "display_name": "Python 3 (ipykernel)",
   "language": "python",
   "name": "python3"
  },
  "language_info": {
   "codemirror_mode": {
    "name": "ipython",
    "version": 3
   },
   "file_extension": ".py",
   "mimetype": "text/x-python",
   "name": "python",
   "nbconvert_exporter": "python",
   "pygments_lexer": "ipython3",
   "version": "3.10.4"
  }
 },
 "nbformat": 4,
 "nbformat_minor": 5
}
